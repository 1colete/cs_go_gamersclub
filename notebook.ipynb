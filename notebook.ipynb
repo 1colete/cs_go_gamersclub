{
 "cells": [
  {
   "cell_type": "markdown",
   "metadata": {},
   "source": [
    "# 1.0 - Context\n",
    "\n",
    "Gamers Club is the largest CS:GO club in the world, and it`s expanding its horizons to embrace other games and gaming communities. Our platform has the largest active player base in Latin America, who play thousands of CS:GO matches every day.\n"
   ]
  },
  {
   "cell_type": "markdown",
   "metadata": {},
   "source": [
    "One player can have multiple medals and matches associated"
   ]
  },
  {
   "cell_type": "code",
   "execution_count": null,
   "metadata": {},
   "outputs": [],
   "source": [
    "huge thanks to - https://www.kaggle.com/code/gustavolatorresilva/eda-gc/notebook\n",
    "\n",
    "mediplot - https://www.kaggle.com/thomaskonstantin\n",
    "https://github.com/MuteJester/MediPlot"
   ]
  },
  {
   "cell_type": "markdown",
   "metadata": {},
   "source": [
    "<img src=\"figs/Modelo-do-banco.png\">"
   ]
  },
  {
   "cell_type": "markdown",
   "metadata": {},
   "source": [
    "# 2.0 - Importing Libs"
   ]
  },
  {
   "cell_type": "code",
   "execution_count": 37,
   "metadata": {},
   "outputs": [],
   "source": [
    "# install new libs\n",
    "# %pip install MediPlot --upgrade"
   ]
  },
  {
   "cell_type": "code",
   "execution_count": 43,
   "metadata": {},
   "outputs": [],
   "source": [
    "# custom lib\n",
    "from libs.limpeza import *\n",
    "\n",
    "# data manipulation\n",
    "import pandas as pd\n",
    "import seaborn as sns\n",
    "import matplotlib.pyplot as plt\n",
    "plt.style.use('ggplot')\n",
    "from MediPlot import BodyMap # bodymap plot\n",
    "\n",
    "\n",
    "# setings\n",
    "pd.set_option('display.max_columns', 100)\n",
    "\n",
    "# warnings option\n",
    "import warnings\n",
    "warnings.filterwarnings('ignore')"
   ]
  },
  {
   "cell_type": "markdown",
   "metadata": {},
   "source": [
    "# 3.0 - Reading Files "
   ]
  },
  {
   "cell_type": "code",
   "execution_count": 44,
   "metadata": {},
   "outputs": [],
   "source": [
    "lobby = pd.read_csv('data/tb_lobby_stats_player.csv')\n",
    "medals = pd.read_csv('data/tb_medalha.csv')\n",
    "players = pd.read_csv('data/tb_players.csv')\n",
    "players_medals = pd.read_csv('data/tb_players_medalha.csv')"
   ]
  },
  {
   "cell_type": "markdown",
   "metadata": {},
   "source": [
    "# 4.0 - Looking Player statistics"
   ]
  },
  {
   "cell_type": "code",
   "execution_count": 45,
   "metadata": {},
   "outputs": [
    {
     "name": "stdout",
     "output_type": "stream",
     "text": [
      "(2716, 7)\n"
     ]
    },
    {
     "data": {
      "text/html": [
       "<div>\n",
       "<style scoped>\n",
       "    .dataframe tbody tr th:only-of-type {\n",
       "        vertical-align: middle;\n",
       "    }\n",
       "\n",
       "    .dataframe tbody tr th {\n",
       "        vertical-align: top;\n",
       "    }\n",
       "\n",
       "    .dataframe thead th {\n",
       "        text-align: right;\n",
       "    }\n",
       "</style>\n",
       "<table border=\"1\" class=\"dataframe\">\n",
       "  <thead>\n",
       "    <tr style=\"text-align: right;\">\n",
       "      <th></th>\n",
       "      <th>idPlayer</th>\n",
       "      <th>flFacebook</th>\n",
       "      <th>flTwitter</th>\n",
       "      <th>flTwitch</th>\n",
       "      <th>descCountry</th>\n",
       "      <th>dtBirth</th>\n",
       "      <th>dtRegistration</th>\n",
       "    </tr>\n",
       "  </thead>\n",
       "  <tbody>\n",
       "    <tr>\n",
       "      <th>0</th>\n",
       "      <td>1</td>\n",
       "      <td>0</td>\n",
       "      <td>0</td>\n",
       "      <td>0</td>\n",
       "      <td>cl</td>\n",
       "      <td>NaN</td>\n",
       "      <td>2021-03-19 21:31:39</td>\n",
       "    </tr>\n",
       "    <tr>\n",
       "      <th>1</th>\n",
       "      <td>2</td>\n",
       "      <td>0</td>\n",
       "      <td>0</td>\n",
       "      <td>0</td>\n",
       "      <td>br</td>\n",
       "      <td>NaN</td>\n",
       "      <td>2020-05-06 19:28:29</td>\n",
       "    </tr>\n",
       "    <tr>\n",
       "      <th>2</th>\n",
       "      <td>3</td>\n",
       "      <td>0</td>\n",
       "      <td>0</td>\n",
       "      <td>0</td>\n",
       "      <td>br</td>\n",
       "      <td>NaN</td>\n",
       "      <td>2020-01-28 13:00:38</td>\n",
       "    </tr>\n",
       "    <tr>\n",
       "      <th>3</th>\n",
       "      <td>4</td>\n",
       "      <td>0</td>\n",
       "      <td>0</td>\n",
       "      <td>0</td>\n",
       "      <td>br</td>\n",
       "      <td>NaN</td>\n",
       "      <td>2017-05-31 16:13:51</td>\n",
       "    </tr>\n",
       "    <tr>\n",
       "      <th>4</th>\n",
       "      <td>5</td>\n",
       "      <td>0</td>\n",
       "      <td>0</td>\n",
       "      <td>0</td>\n",
       "      <td>ar</td>\n",
       "      <td>NaN</td>\n",
       "      <td>2021-02-08 11:57:21</td>\n",
       "    </tr>\n",
       "  </tbody>\n",
       "</table>\n",
       "</div>"
      ],
      "text/plain": [
       "   idPlayer  flFacebook  flTwitter  flTwitch descCountry dtBirth  \\\n",
       "0         1           0          0         0          cl     NaN   \n",
       "1         2           0          0         0          br     NaN   \n",
       "2         3           0          0         0          br     NaN   \n",
       "3         4           0          0         0          br     NaN   \n",
       "4         5           0          0         0          ar     NaN   \n",
       "\n",
       "        dtRegistration  \n",
       "0  2021-03-19 21:31:39  \n",
       "1  2020-05-06 19:28:29  \n",
       "2  2020-01-28 13:00:38  \n",
       "3  2017-05-31 16:13:51  \n",
       "4  2021-02-08 11:57:21  "
      ]
     },
     "execution_count": 45,
     "metadata": {},
     "output_type": "execute_result"
    }
   ],
   "source": [
    "print(players.shape)\n",
    "players.head()"
   ]
  },
  {
   "cell_type": "markdown",
   "metadata": {},
   "source": [
    "# 4.1 - Players nationality"
   ]
  },
  {
   "cell_type": "code",
   "execution_count": 46,
   "metadata": {},
   "outputs": [
    {
     "data": {
      "text/html": [
       "<div>\n",
       "<style scoped>\n",
       "    .dataframe tbody tr th:only-of-type {\n",
       "        vertical-align: middle;\n",
       "    }\n",
       "\n",
       "    .dataframe tbody tr th {\n",
       "        vertical-align: top;\n",
       "    }\n",
       "\n",
       "    .dataframe thead th {\n",
       "        text-align: right;\n",
       "    }\n",
       "</style>\n",
       "<table border=\"1\" class=\"dataframe\">\n",
       "  <thead>\n",
       "    <tr style=\"text-align: right;\">\n",
       "      <th></th>\n",
       "      <th>country</th>\n",
       "      <th>qty_players</th>\n",
       "    </tr>\n",
       "  </thead>\n",
       "  <tbody>\n",
       "    <tr>\n",
       "      <th>0</th>\n",
       "      <td>br</td>\n",
       "      <td>76.251841</td>\n",
       "    </tr>\n",
       "    <tr>\n",
       "      <th>1</th>\n",
       "      <td>ar</td>\n",
       "      <td>18.078056</td>\n",
       "    </tr>\n",
       "    <tr>\n",
       "      <th>2</th>\n",
       "      <td>cl</td>\n",
       "      <td>3.387334</td>\n",
       "    </tr>\n",
       "    <tr>\n",
       "      <th>3</th>\n",
       "      <td>uy</td>\n",
       "      <td>0.773196</td>\n",
       "    </tr>\n",
       "    <tr>\n",
       "      <th>4</th>\n",
       "      <td>pe</td>\n",
       "      <td>0.625920</td>\n",
       "    </tr>\n",
       "    <tr>\n",
       "      <th>5</th>\n",
       "      <td>us</td>\n",
       "      <td>0.368189</td>\n",
       "    </tr>\n",
       "    <tr>\n",
       "      <th>6</th>\n",
       "      <td>py</td>\n",
       "      <td>0.184094</td>\n",
       "    </tr>\n",
       "    <tr>\n",
       "      <th>7</th>\n",
       "      <td>bo</td>\n",
       "      <td>0.110457</td>\n",
       "    </tr>\n",
       "    <tr>\n",
       "      <th>8</th>\n",
       "      <td>ec</td>\n",
       "      <td>0.073638</td>\n",
       "    </tr>\n",
       "    <tr>\n",
       "      <th>9</th>\n",
       "      <td>ca</td>\n",
       "      <td>0.036819</td>\n",
       "    </tr>\n",
       "    <tr>\n",
       "      <th>10</th>\n",
       "      <td>pt</td>\n",
       "      <td>0.036819</td>\n",
       "    </tr>\n",
       "    <tr>\n",
       "      <th>11</th>\n",
       "      <td>sv</td>\n",
       "      <td>0.036819</td>\n",
       "    </tr>\n",
       "    <tr>\n",
       "      <th>12</th>\n",
       "      <td>cr</td>\n",
       "      <td>0.036819</td>\n",
       "    </tr>\n",
       "  </tbody>\n",
       "</table>\n",
       "</div>"
      ],
      "text/plain": [
       "   country  qty_players\n",
       "0       br    76.251841\n",
       "1       ar    18.078056\n",
       "2       cl     3.387334\n",
       "3       uy     0.773196\n",
       "4       pe     0.625920\n",
       "5       us     0.368189\n",
       "6       py     0.184094\n",
       "7       bo     0.110457\n",
       "8       ec     0.073638\n",
       "9       ca     0.036819\n",
       "10      pt     0.036819\n",
       "11      sv     0.036819\n",
       "12      cr     0.036819"
      ]
     },
     "execution_count": 46,
     "metadata": {},
     "output_type": "execute_result"
    }
   ],
   "source": [
    "columns = ['country','qty_players']\n",
    "qty_players_country = players.descCountry.value_counts(normalize= True) *100\n",
    "\n",
    "qty_players_table = pd.DataFrame(qty_players_country).reset_index()\n",
    "qty_players_table.columns = columns\n",
    "qty_players_table"
   ]
  },
  {
   "cell_type": "code",
   "execution_count": 47,
   "metadata": {},
   "outputs": [
    {
     "data": {
      "image/png": "[encoded data removed]",
      "text/plain": [
       "<Figure size 864x576 with 1 Axes>"
      ]
     },
     "metadata": {},
     "output_type": "display_data"
    }
   ],
   "source": [
    "\n",
    "fig, ax = plt.subplots ( figsize = (12,8))\n",
    "\n",
    "ax = sns.barplot(data = qty_players_table [:5], x = \"country\" , y = \"qty_players\" )\n",
    "ax.bar_label(ax.containers[0], fmt='%.f%%')\n",
    "ax.set_ylabel('%')\n",
    "ax.set_title(f' Top 5 Countries')\n",
    "ax.set_xlabel('Country')\n",
    "ax.set_ylabel('Qty Players')\n",
    "plt.show()"
   ]
  },
  {
   "cell_type": "markdown",
   "metadata": {},
   "source": [
    "Most players are Brazilians (76%), folowed by Argentinians (18%) and than Chilenians (3%)"
   ]
  },
  {
   "cell_type": "markdown",
   "metadata": {},
   "source": [
    "# 4.2 - Players and social media"
   ]
  },
  {
   "cell_type": "code",
   "execution_count": 6,
   "metadata": {},
   "outputs": [
    {
     "data": {
      "text/plain": [
       "5.89101620029455"
      ]
     },
     "execution_count": 6,
     "metadata": {},
     "output_type": "execute_result"
    }
   ],
   "source": [
    "(players[['flFacebook', 'flTwitter', 'flTwitch']].sum().sum() / players.shape[0] ) *100"
   ]
  },
  {
   "cell_type": "markdown",
   "metadata": {},
   "source": [
    "Only 5.8% of players have Social Media accounts conected"
   ]
  },
  {
   "cell_type": "code",
   "execution_count": 7,
   "metadata": {},
   "outputs": [
    {
     "data": {
      "text/plain": [
       "flFacebook    2.319588\n",
       "flTwitter     1.620029\n",
       "flTwitch      1.951399\n",
       "dtype: float64"
      ]
     },
     "execution_count": 7,
     "metadata": {},
     "output_type": "execute_result"
    }
   ],
   "source": [
    "(players[['flFacebook', 'flTwitter', 'flTwitch']].sum()/ players.shape[0] ) *100"
   ]
  },
  {
   "cell_type": "markdown",
   "metadata": {},
   "source": [
    "Facebook is almost double the other two Social Media connections"
   ]
  },
  {
   "cell_type": "markdown",
   "metadata": {},
   "source": [
    "# 4.3 - Players Age"
   ]
  },
  {
   "cell_type": "code",
   "execution_count": 8,
   "metadata": {},
   "outputs": [],
   "source": [
    "# Creating an Age column based on date of birth\n",
    "players['dtBirth'] = pd.to_datetime(players['dtBirth'])\n",
    "players['age'] = 2022 - players['dtBirth'].dt.year"
   ]
  },
  {
   "cell_type": "code",
   "execution_count": 9,
   "metadata": {},
   "outputs": [
    {
     "name": "stdout",
     "output_type": "stream",
     "text": [
      "Younges: 14.0\n",
      "Oldest: 78.0\n"
     ]
    }
   ],
   "source": [
    "print(f'Younges: {players[\"age\"].min()}')\n",
    "print(f'Oldest: {players[\"age\"].max()}')"
   ]
  },
  {
   "cell_type": "code",
   "execution_count": 10,
   "metadata": {},
   "outputs": [
    {
     "name": "stdout",
     "output_type": "stream",
     "text": [
      "Age mean: 24.26593625498008\n",
      "Age median: 23.0\n",
      "Age mode: 22.0\n"
     ]
    }
   ],
   "source": [
    "# verificando a média, mediana e moda das idades\n",
    "print(f'''Age mean: {players['age'].mean()}\n",
    "Age median: {players['age'].median()}\n",
    "Age mode: {players['age'].mode()[0]}''')"
   ]
  },
  {
   "cell_type": "code",
   "execution_count": 11,
   "metadata": {},
   "outputs": [
    {
     "data": {
      "text/html": [
       "<div>\n",
       "<style scoped>\n",
       "    .dataframe tbody tr th:only-of-type {\n",
       "        vertical-align: middle;\n",
       "    }\n",
       "\n",
       "    .dataframe tbody tr th {\n",
       "        vertical-align: top;\n",
       "    }\n",
       "\n",
       "    .dataframe thead th {\n",
       "        text-align: right;\n",
       "    }\n",
       "</style>\n",
       "<table border=\"1\" class=\"dataframe\">\n",
       "  <thead>\n",
       "    <tr style=\"text-align: right;\">\n",
       "      <th></th>\n",
       "      <th>age</th>\n",
       "    </tr>\n",
       "  </thead>\n",
       "  <tbody>\n",
       "    <tr>\n",
       "      <th>False</th>\n",
       "      <td>2008</td>\n",
       "    </tr>\n",
       "    <tr>\n",
       "      <th>True</th>\n",
       "      <td>708</td>\n",
       "    </tr>\n",
       "  </tbody>\n",
       "</table>\n",
       "</div>"
      ],
      "text/plain": [
       "        age\n",
       "False  2008\n",
       "True    708"
      ]
     },
     "execution_count": 11,
     "metadata": {},
     "output_type": "execute_result"
    }
   ],
   "source": [
    "# missing data with age \n",
    "pd.DataFrame(players.age.isnull().value_counts())"
   ]
  },
  {
   "cell_type": "markdown",
   "metadata": {},
   "source": [
    "we have 708 missing data to be filled with the median age"
   ]
  },
  {
   "cell_type": "code",
   "execution_count": 12,
   "metadata": {},
   "outputs": [],
   "source": [
    "# filling N/A with median Age\n",
    "# players.age = players.age.fillna(players.age.median()) # - Fill missing only after split or look to something"
   ]
  },
  {
   "cell_type": "code",
   "execution_count": 13,
   "metadata": {},
   "outputs": [
    {
     "data": {
      "image/png": "[encoded data removed]",
      "text/plain": [
       "<Figure size 1296x432 with 2 Axes>"
      ]
     },
     "metadata": {
      "needs_background": "light"
     },
     "output_type": "display_data"
    }
   ],
   "source": [
    "fig, ax = plt.subplots (1,2, figsize = (18,6))\n",
    "\n",
    "fig.suptitle (f'Age Distribuition', fontsize = 20, fontweight = 'bold', y =1)\n",
    "ax[0].set_title(f'Histogram of Age')\n",
    "ax[1].set_title(f'Boxplot of Age')\n",
    "\n",
    "# first plot\n",
    "sns.histplot(data = players.age,bins = 50, kde=True, ax=ax[0])\n",
    "ax[0].grid(axis = 'y')\n",
    "\n",
    "# second plot \n",
    "ax = sns.boxplot(x=players.age, ax=ax[1])\n",
    "plt.show()"
   ]
  },
  {
   "cell_type": "code",
   "execution_count": 14,
   "metadata": {},
   "outputs": [
    {
     "name": "stdout",
     "output_type": "stream",
     "text": [
      "Age mean: 24.26593625498008\n",
      "Age median: 23.0\n",
      "Age mode: 22.0\n"
     ]
    }
   ],
   "source": [
    "# verificando a média, mediana e moda das idades\n",
    "print(f'''Age mean: {players['age'].mean()}\n",
    "Age median: {players['age'].median()}\n",
    "Age mode: {players['age'].mode()[0]}''')"
   ]
  },
  {
   "cell_type": "markdown",
   "metadata": {},
   "source": [
    "# 4.4 - Account Age"
   ]
  },
  {
   "cell_type": "code",
   "execution_count": 15,
   "metadata": {},
   "outputs": [],
   "source": [
    "# Creating an Age column based on date of birth\n",
    "players['dtRegistration'] = pd.to_datetime(players['dtRegistration'])\n",
    "players['account_age'] = 2022 - players['dtRegistration'].dt.year"
   ]
  },
  {
   "cell_type": "code",
   "execution_count": 16,
   "metadata": {},
   "outputs": [
    {
     "data": {
      "text/plain": [
       "False    2716\n",
       "Name: account_age, dtype: int64"
      ]
     },
     "execution_count": 16,
     "metadata": {},
     "output_type": "execute_result"
    }
   ],
   "source": [
    "# missing data with age \n",
    "players.account_age.isnull().value_counts()"
   ]
  },
  {
   "cell_type": "markdown",
   "metadata": {},
   "source": [
    "All missing ages were filled"
   ]
  },
  {
   "cell_type": "code",
   "execution_count": 17,
   "metadata": {},
   "outputs": [
    {
     "name": "stdout",
     "output_type": "stream",
     "text": [
      "Age mean: 3.3457290132547866\n",
      "Age median: 3.0\n",
      "Age mode: 2\n"
     ]
    }
   ],
   "source": [
    "# verifying a mean, median and monde das idades\n",
    "print(f'''Age mean: {players.account_age.mean()}\n",
    "Age median: {players.account_age.median()}\n",
    "Age mode: {players.account_age.mode()[0]}''')"
   ]
  },
  {
   "cell_type": "code",
   "execution_count": 18,
   "metadata": {},
   "outputs": [
    {
     "data": {
      "image/png": "[encoded data removed]",
      "text/plain": [
       "<Figure size 1296x432 with 2 Axes>"
      ]
     },
     "metadata": {
      "needs_background": "light"
     },
     "output_type": "display_data"
    }
   ],
   "source": [
    "fig, ax = plt.subplots (1,2, figsize = (18,6))\n",
    "\n",
    "fig.suptitle (f'Account Age Distribuition', fontsize = 20, fontweight = 'bold', y =1)\n",
    "ax[0].set_title(f'Histogram of Account Age')\n",
    "ax[1].set_title(f'Boxplot of Account Age')\n",
    "\n",
    "# first plot\n",
    "sns.histplot(data = players.account_age,bins = 50, kde=True, ax=ax[0])\n",
    "ax[0].grid(axis = 'y')\n",
    "\n",
    "# second plot \n",
    "ax = sns.boxplot(x=players.account_age, ax=ax[1])\n",
    "plt.show()"
   ]
  },
  {
   "cell_type": "markdown",
   "metadata": {},
   "source": [
    "- Gamers Club was Founded in 2015 and its popularity has grwon on past few years.\n",
    "- Most accounts has account created on the lat 2 years.\n",
    "- Mean account age is 3.34 years.\n",
    "- We dont have much data on 2022 because the dataset was published on the begining of the year and was not updated"
   ]
  },
  {
   "cell_type": "markdown",
   "metadata": {},
   "source": [
    "# 5.0 - Lobby Statistics\n",
    "\n",
    "Now we are looking to the matches statistics"
   ]
  },
  {
   "cell_type": "code",
   "execution_count": 19,
   "metadata": {},
   "outputs": [
    {
     "data": {
      "text/html": [
       "<div>\n",
       "<style scoped>\n",
       "    .dataframe tbody tr th:only-of-type {\n",
       "        vertical-align: middle;\n",
       "    }\n",
       "\n",
       "    .dataframe tbody tr th {\n",
       "        vertical-align: top;\n",
       "    }\n",
       "\n",
       "    .dataframe thead th {\n",
       "        text-align: right;\n",
       "    }\n",
       "</style>\n",
       "<table border=\"1\" class=\"dataframe\">\n",
       "  <thead>\n",
       "    <tr style=\"text-align: right;\">\n",
       "      <th></th>\n",
       "      <th>idLobbyGame</th>\n",
       "      <th>idPlayer</th>\n",
       "      <th>idRoom</th>\n",
       "      <th>qtKill</th>\n",
       "      <th>qtAssist</th>\n",
       "      <th>qtDeath</th>\n",
       "      <th>qtHs</th>\n",
       "      <th>qtBombeDefuse</th>\n",
       "      <th>qtBombePlant</th>\n",
       "      <th>qtTk</th>\n",
       "      <th>qtTkAssist</th>\n",
       "      <th>qt1Kill</th>\n",
       "      <th>qt2Kill</th>\n",
       "      <th>qt3Kill</th>\n",
       "      <th>qt4Kill</th>\n",
       "      <th>qt5Kill</th>\n",
       "      <th>qtPlusKill</th>\n",
       "      <th>qtFirstKill</th>\n",
       "      <th>vlDamage</th>\n",
       "      <th>qtHits</th>\n",
       "      <th>qtShots</th>\n",
       "      <th>qtLastAlive</th>\n",
       "      <th>qtClutchWon</th>\n",
       "      <th>qtRoundsPlayed</th>\n",
       "      <th>descMapName</th>\n",
       "      <th>vlLevel</th>\n",
       "      <th>qtSurvived</th>\n",
       "      <th>qtTrade</th>\n",
       "      <th>qtFlashAssist</th>\n",
       "      <th>qtHitHeadshot</th>\n",
       "      <th>qtHitChest</th>\n",
       "      <th>qtHitStomach</th>\n",
       "      <th>qtHitLeftAtm</th>\n",
       "      <th>qtHitRightArm</th>\n",
       "      <th>qtHitLeftLeg</th>\n",
       "      <th>qtHitRightLeg</th>\n",
       "      <th>flWinner</th>\n",
       "      <th>dtCreatedAt</th>\n",
       "    </tr>\n",
       "  </thead>\n",
       "  <tbody>\n",
       "    <tr>\n",
       "      <th>0</th>\n",
       "      <td>1</td>\n",
       "      <td>1</td>\n",
       "      <td>1</td>\n",
       "      <td>5</td>\n",
       "      <td>1</td>\n",
       "      <td>16</td>\n",
       "      <td>2</td>\n",
       "      <td>0</td>\n",
       "      <td>0</td>\n",
       "      <td>0.0</td>\n",
       "      <td>0.0</td>\n",
       "      <td>3</td>\n",
       "      <td>1</td>\n",
       "      <td>0</td>\n",
       "      <td>0</td>\n",
       "      <td>0</td>\n",
       "      <td>0</td>\n",
       "      <td>1</td>\n",
       "      <td>911</td>\n",
       "      <td>25.0</td>\n",
       "      <td>212</td>\n",
       "      <td>0.0</td>\n",
       "      <td>0</td>\n",
       "      <td>17</td>\n",
       "      <td>de_mirage</td>\n",
       "      <td>10</td>\n",
       "      <td>1.0</td>\n",
       "      <td>2.0</td>\n",
       "      <td>0.0</td>\n",
       "      <td>3.0</td>\n",
       "      <td>13.0</td>\n",
       "      <td>4.0</td>\n",
       "      <td>2.0</td>\n",
       "      <td>2.0</td>\n",
       "      <td>1.0</td>\n",
       "      <td>0.0</td>\n",
       "      <td>0</td>\n",
       "      <td>2022-01-21 19:45:44</td>\n",
       "    </tr>\n",
       "    <tr>\n",
       "      <th>1</th>\n",
       "      <td>2</td>\n",
       "      <td>1</td>\n",
       "      <td>2</td>\n",
       "      <td>24</td>\n",
       "      <td>3</td>\n",
       "      <td>18</td>\n",
       "      <td>6</td>\n",
       "      <td>0</td>\n",
       "      <td>4</td>\n",
       "      <td>0.0</td>\n",
       "      <td>1.0</td>\n",
       "      <td>9</td>\n",
       "      <td>4</td>\n",
       "      <td>1</td>\n",
       "      <td>1</td>\n",
       "      <td>0</td>\n",
       "      <td>0</td>\n",
       "      <td>3</td>\n",
       "      <td>2933</td>\n",
       "      <td>54.0</td>\n",
       "      <td>597</td>\n",
       "      <td>1.0</td>\n",
       "      <td>1</td>\n",
       "      <td>27</td>\n",
       "      <td>de_nuke</td>\n",
       "      <td>9</td>\n",
       "      <td>8.0</td>\n",
       "      <td>1.0</td>\n",
       "      <td>0.0</td>\n",
       "      <td>7.0</td>\n",
       "      <td>26.0</td>\n",
       "      <td>14.0</td>\n",
       "      <td>2.0</td>\n",
       "      <td>1.0</td>\n",
       "      <td>1.0</td>\n",
       "      <td>3.0</td>\n",
       "      <td>1</td>\n",
       "      <td>2022-02-04 02:09:47</td>\n",
       "    </tr>\n",
       "    <tr>\n",
       "      <th>2</th>\n",
       "      <td>3</td>\n",
       "      <td>2</td>\n",
       "      <td>3</td>\n",
       "      <td>6</td>\n",
       "      <td>4</td>\n",
       "      <td>23</td>\n",
       "      <td>2</td>\n",
       "      <td>0</td>\n",
       "      <td>1</td>\n",
       "      <td>0.0</td>\n",
       "      <td>1.0</td>\n",
       "      <td>4</td>\n",
       "      <td>1</td>\n",
       "      <td>0</td>\n",
       "      <td>0</td>\n",
       "      <td>0</td>\n",
       "      <td>0</td>\n",
       "      <td>2</td>\n",
       "      <td>1117</td>\n",
       "      <td>31.0</td>\n",
       "      <td>207</td>\n",
       "      <td>0.0</td>\n",
       "      <td>0</td>\n",
       "      <td>25</td>\n",
       "      <td>de_mirage</td>\n",
       "      <td>2</td>\n",
       "      <td>2.0</td>\n",
       "      <td>3.0</td>\n",
       "      <td>0.0</td>\n",
       "      <td>3.0</td>\n",
       "      <td>15.0</td>\n",
       "      <td>8.0</td>\n",
       "      <td>1.0</td>\n",
       "      <td>2.0</td>\n",
       "      <td>0.0</td>\n",
       "      <td>2.0</td>\n",
       "      <td>0</td>\n",
       "      <td>2021-09-18 18:07:43</td>\n",
       "    </tr>\n",
       "    <tr>\n",
       "      <th>3</th>\n",
       "      <td>3</td>\n",
       "      <td>391</td>\n",
       "      <td>27508</td>\n",
       "      <td>10</td>\n",
       "      <td>5</td>\n",
       "      <td>20</td>\n",
       "      <td>4</td>\n",
       "      <td>1</td>\n",
       "      <td>0</td>\n",
       "      <td>0.0</td>\n",
       "      <td>0.0</td>\n",
       "      <td>6</td>\n",
       "      <td>2</td>\n",
       "      <td>0</td>\n",
       "      <td>0</td>\n",
       "      <td>0</td>\n",
       "      <td>0</td>\n",
       "      <td>1</td>\n",
       "      <td>1740</td>\n",
       "      <td>63.0</td>\n",
       "      <td>411</td>\n",
       "      <td>1.0</td>\n",
       "      <td>1</td>\n",
       "      <td>25</td>\n",
       "      <td>de_mirage</td>\n",
       "      <td>15</td>\n",
       "      <td>3.0</td>\n",
       "      <td>4.0</td>\n",
       "      <td>0.0</td>\n",
       "      <td>6.0</td>\n",
       "      <td>27.0</td>\n",
       "      <td>10.0</td>\n",
       "      <td>1.0</td>\n",
       "      <td>7.0</td>\n",
       "      <td>6.0</td>\n",
       "      <td>6.0</td>\n",
       "      <td>1</td>\n",
       "      <td>2021-09-18 18:07:43</td>\n",
       "    </tr>\n",
       "    <tr>\n",
       "      <th>4</th>\n",
       "      <td>4</td>\n",
       "      <td>2</td>\n",
       "      <td>4</td>\n",
       "      <td>8</td>\n",
       "      <td>4</td>\n",
       "      <td>26</td>\n",
       "      <td>6</td>\n",
       "      <td>0</td>\n",
       "      <td>2</td>\n",
       "      <td>0.0</td>\n",
       "      <td>0.0</td>\n",
       "      <td>4</td>\n",
       "      <td>2</td>\n",
       "      <td>0</td>\n",
       "      <td>0</td>\n",
       "      <td>0</td>\n",
       "      <td>0</td>\n",
       "      <td>1</td>\n",
       "      <td>1696</td>\n",
       "      <td>51.0</td>\n",
       "      <td>324</td>\n",
       "      <td>0.0</td>\n",
       "      <td>0</td>\n",
       "      <td>30</td>\n",
       "      <td>de_nuke</td>\n",
       "      <td>2</td>\n",
       "      <td>4.0</td>\n",
       "      <td>4.0</td>\n",
       "      <td>2.0</td>\n",
       "      <td>8.0</td>\n",
       "      <td>19.0</td>\n",
       "      <td>12.0</td>\n",
       "      <td>2.0</td>\n",
       "      <td>3.0</td>\n",
       "      <td>2.0</td>\n",
       "      <td>5.0</td>\n",
       "      <td>0</td>\n",
       "      <td>2021-09-27 00:17:45</td>\n",
       "    </tr>\n",
       "  </tbody>\n",
       "</table>\n",
       "</div>"
      ],
      "text/plain": [
       "   idLobbyGame  idPlayer  idRoom  qtKill  qtAssist  qtDeath  qtHs  \\\n",
       "0            1         1       1       5         1       16     2   \n",
       "1            2         1       2      24         3       18     6   \n",
       "2            3         2       3       6         4       23     2   \n",
       "3            3       391   27508      10         5       20     4   \n",
       "4            4         2       4       8         4       26     6   \n",
       "\n",
       "   qtBombeDefuse  qtBombePlant  qtTk  qtTkAssist  qt1Kill  qt2Kill  qt3Kill  \\\n",
       "0              0             0   0.0         0.0        3        1        0   \n",
       "1              0             4   0.0         1.0        9        4        1   \n",
       "2              0             1   0.0         1.0        4        1        0   \n",
       "3              1             0   0.0         0.0        6        2        0   \n",
       "4              0             2   0.0         0.0        4        2        0   \n",
       "\n",
       "   qt4Kill  qt5Kill  qtPlusKill  qtFirstKill  vlDamage  qtHits  qtShots  \\\n",
       "0        0        0           0            1       911    25.0      212   \n",
       "1        1        0           0            3      2933    54.0      597   \n",
       "2        0        0           0            2      1117    31.0      207   \n",
       "3        0        0           0            1      1740    63.0      411   \n",
       "4        0        0           0            1      1696    51.0      324   \n",
       "\n",
       "   qtLastAlive  qtClutchWon  qtRoundsPlayed descMapName  vlLevel  qtSurvived  \\\n",
       "0          0.0            0              17   de_mirage       10         1.0   \n",
       "1          1.0            1              27     de_nuke        9         8.0   \n",
       "2          0.0            0              25   de_mirage        2         2.0   \n",
       "3          1.0            1              25   de_mirage       15         3.0   \n",
       "4          0.0            0              30     de_nuke        2         4.0   \n",
       "\n",
       "   qtTrade  qtFlashAssist  qtHitHeadshot  qtHitChest  qtHitStomach  \\\n",
       "0      2.0            0.0            3.0        13.0           4.0   \n",
       "1      1.0            0.0            7.0        26.0          14.0   \n",
       "2      3.0            0.0            3.0        15.0           8.0   \n",
       "3      4.0            0.0            6.0        27.0          10.0   \n",
       "4      4.0            2.0            8.0        19.0          12.0   \n",
       "\n",
       "   qtHitLeftAtm  qtHitRightArm  qtHitLeftLeg  qtHitRightLeg  flWinner  \\\n",
       "0           2.0            2.0           1.0            0.0         0   \n",
       "1           2.0            1.0           1.0            3.0         1   \n",
       "2           1.0            2.0           0.0            2.0         0   \n",
       "3           1.0            7.0           6.0            6.0         1   \n",
       "4           2.0            3.0           2.0            5.0         0   \n",
       "\n",
       "           dtCreatedAt  \n",
       "0  2022-01-21 19:45:44  \n",
       "1  2022-02-04 02:09:47  \n",
       "2  2021-09-18 18:07:43  \n",
       "3  2021-09-18 18:07:43  \n",
       "4  2021-09-27 00:17:45  "
      ]
     },
     "execution_count": 19,
     "metadata": {},
     "output_type": "execute_result"
    }
   ],
   "source": [
    "# sneak peak of the dataset\n",
    "lobby.head()"
   ]
  },
  {
   "cell_type": "markdown",
   "metadata": {},
   "source": [
    "There are a few columns that are not intersting to our analysis, so we are going to remove them to make thigs easier and faster."
   ]
  },
  {
   "cell_type": "code",
   "execution_count": 20,
   "metadata": {},
   "outputs": [
    {
     "data": {
      "text/plain": [
       "Index(['idLobbyGame', 'idPlayer', 'idRoom', 'qtKill', 'qtAssist', 'qtDeath',\n",
       "       'qtHs', 'qtBombeDefuse', 'qtBombePlant', 'qtTk', 'qtTkAssist',\n",
       "       'qt1Kill', 'qt2Kill', 'qt3Kill', 'qt4Kill', 'qt5Kill', 'qtPlusKill',\n",
       "       'qtFirstKill', 'vlDamage', 'qtHits', 'qtShots', 'qtLastAlive',\n",
       "       'qtClutchWon', 'qtRoundsPlayed', 'descMapName', 'vlLevel', 'qtSurvived',\n",
       "       'qtTrade', 'qtFlashAssist', 'qtHitHeadshot', 'qtHitChest',\n",
       "       'qtHitStomach', 'qtHitLeftAtm', 'qtHitRightArm', 'qtHitLeftLeg',\n",
       "       'qtHitRightLeg', 'flWinner', 'dtCreatedAt'],\n",
       "      dtype='object')"
      ]
     },
     "execution_count": 20,
     "metadata": {},
     "output_type": "execute_result"
    }
   ],
   "source": [
    "lobby.columns"
   ]
  },
  {
   "cell_type": "code",
   "execution_count": 21,
   "metadata": {},
   "outputs": [
    {
     "name": "stdout",
     "output_type": "stream",
     "text": [
      "<class 'pandas.core.frame.DataFrame'>\n",
      "RangeIndex: 184152 entries, 0 to 184151\n",
      "Data columns (total 38 columns):\n",
      " #   Column          Non-Null Count   Dtype  \n",
      "---  ------          --------------   -----  \n",
      " 0   idLobbyGame     184152 non-null  int64  \n",
      " 1   idPlayer        184152 non-null  int64  \n",
      " 2   idRoom          184152 non-null  int64  \n",
      " 3   qtKill          184152 non-null  int64  \n",
      " 4   qtAssist        184152 non-null  int64  \n",
      " 5   qtDeath         184152 non-null  int64  \n",
      " 6   qtHs            184152 non-null  int64  \n",
      " 7   qtBombeDefuse   184152 non-null  int64  \n",
      " 8   qtBombePlant    184152 non-null  int64  \n",
      " 9   qtTk            184032 non-null  float64\n",
      " 10  qtTkAssist      184032 non-null  float64\n",
      " 11  qt1Kill         184152 non-null  int64  \n",
      " 12  qt2Kill         184152 non-null  int64  \n",
      " 13  qt3Kill         184152 non-null  int64  \n",
      " 14  qt4Kill         184152 non-null  int64  \n",
      " 15  qt5Kill         184152 non-null  int64  \n",
      " 16  qtPlusKill      184152 non-null  int64  \n",
      " 17  qtFirstKill     184152 non-null  int64  \n",
      " 18  vlDamage        184152 non-null  int64  \n",
      " 19  qtHits          184032 non-null  float64\n",
      " 20  qtShots         184152 non-null  int64  \n",
      " 21  qtLastAlive     184032 non-null  float64\n",
      " 22  qtClutchWon     184152 non-null  int64  \n",
      " 23  qtRoundsPlayed  184152 non-null  int64  \n",
      " 24  descMapName     184152 non-null  object \n",
      " 25  vlLevel         184152 non-null  int64  \n",
      " 26  qtSurvived      183447 non-null  float64\n",
      " 27  qtTrade         183447 non-null  float64\n",
      " 28  qtFlashAssist   183447 non-null  float64\n",
      " 29  qtHitHeadshot   183447 non-null  float64\n",
      " 30  qtHitChest      183447 non-null  float64\n",
      " 31  qtHitStomach    183447 non-null  float64\n",
      " 32  qtHitLeftAtm    183447 non-null  float64\n",
      " 33  qtHitRightArm   183447 non-null  float64\n",
      " 34  qtHitLeftLeg    183447 non-null  float64\n",
      " 35  qtHitRightLeg   183447 non-null  float64\n",
      " 36  flWinner        184152 non-null  int64  \n",
      " 37  dtCreatedAt     184152 non-null  object \n",
      "dtypes: float64(14), int64(22), object(2)\n",
      "memory usage: 53.4+ MB\n"
     ]
    }
   ],
   "source": [
    "# looking to table infos\n",
    "lobby.info()"
   ]
  },
  {
   "cell_type": "markdown",
   "metadata": {},
   "source": [
    "# 5.1 - Maps"
   ]
  },
  {
   "cell_type": "code",
   "execution_count": 22,
   "metadata": {},
   "outputs": [],
   "source": [
    "columns = ['Map Name','Matches Count']\n",
    "matches_by_map = pd.DataFrame(lobby.descMapName.value_counts()).reset_index() \n",
    "matches_by_map.columns = columns"
   ]
  },
  {
   "cell_type": "code",
   "execution_count": 23,
   "metadata": {},
   "outputs": [
    {
     "data": {
      "image/png": "[encoded data removed]",
      "text/plain": [
       "<Figure size 864x576 with 1 Axes>"
      ]
     },
     "metadata": {
      "needs_background": "light"
     },
     "output_type": "display_data"
    }
   ],
   "source": [
    "fig, ax = plt.subplots ( figsize = (12,8))\n",
    "\n",
    "ax = sns.barplot(data = matches_by_map , x = \"Map Name\" , y = \"Matches Count\" )\n",
    "ax.bar_label(ax.containers[0], fmt='%.f')\n",
    "ax.set_ylabel('%')\n",
    "ax.set_title(f' Top 5 Countries')\n",
    "ax.set_xlabel('Country')\n",
    "ax.set_ylabel('Qty Players')\n",
    "plt.show()"
   ]
  },
  {
   "cell_type": "markdown",
   "metadata": {},
   "source": [
    "- Maps with most played matches are Mirage with 58101 games, Inferno with 41073 and Dust2 with 23834 games.\n",
    "- Maps are most familiar to most playes and easier to play with."
   ]
  },
  {
   "cell_type": "markdown",
   "metadata": {},
   "source": [
    "# 4.5 - Players who play the most"
   ]
  },
  {
   "cell_type": "code",
   "execution_count": 24,
   "metadata": {},
   "outputs": [
    {
     "data": {
      "image/png": "[encoded data removed]",
      "text/plain": [
       "<Figure size 864x576 with 1 Axes>"
      ]
     },
     "metadata": {
      "needs_background": "light"
     },
     "output_type": "display_data"
    }
   ],
   "source": [
    "# calculating the number of matches to each user\n",
    "columns = ['idPlayer','Matches Count']\n",
    "matches_by_id = pd.DataFrame(lobby.idPlayer.value_counts()).reset_index() \n",
    "matches_by_id.columns = columns\n",
    "\n",
    "fig, ax = plt.subplots ( figsize = (12,8))\n",
    "\n",
    "ax = sns.barplot(data = matches_by_id[:10],\n",
    "                 x = \"idPlayer\" ,\n",
    "                 y = \"Matches Count\",\n",
    "                 order= matches_by_id.sort_values('Matches Count', ascending= False)['idPlayer'][:10] )\n",
    "\n",
    "ax.bar_label(ax.containers[0], fmt='%.f')\n",
    "ax.set_ylabel('%')\n",
    "ax.set_title(f' Top 10 Players who played the Most')\n",
    "ax.set_xlabel('Players')\n",
    "ax.set_ylabel('Qty Mathces')\n",
    "\n",
    "plt.show()"
   ]
  },
  {
   "cell_type": "code",
   "execution_count": 25,
   "metadata": {},
   "outputs": [
    {
     "data": {
      "text/html": [
       "<div>\n",
       "<style scoped>\n",
       "    .dataframe tbody tr th:only-of-type {\n",
       "        vertical-align: middle;\n",
       "    }\n",
       "\n",
       "    .dataframe tbody tr th {\n",
       "        vertical-align: top;\n",
       "    }\n",
       "\n",
       "    .dataframe thead th {\n",
       "        text-align: right;\n",
       "    }\n",
       "</style>\n",
       "<table border=\"1\" class=\"dataframe\">\n",
       "  <thead>\n",
       "    <tr style=\"text-align: right;\">\n",
       "      <th></th>\n",
       "      <th>descMapName</th>\n",
       "      <th>qtBombePlant</th>\n",
       "      <th>qtBombeDefuse</th>\n",
       "      <th>undefused</th>\n",
       "      <th>defuse_rate</th>\n",
       "    </tr>\n",
       "  </thead>\n",
       "  <tbody>\n",
       "    <tr>\n",
       "      <th>0</th>\n",
       "      <td>de_ancient</td>\n",
       "      <td>6151</td>\n",
       "      <td>1667</td>\n",
       "      <td>4484</td>\n",
       "      <td>27.101284</td>\n",
       "    </tr>\n",
       "    <tr>\n",
       "      <th>1</th>\n",
       "      <td>de_dust2</td>\n",
       "      <td>32143</td>\n",
       "      <td>7448</td>\n",
       "      <td>24695</td>\n",
       "      <td>23.171453</td>\n",
       "    </tr>\n",
       "    <tr>\n",
       "      <th>2</th>\n",
       "      <td>de_inferno</td>\n",
       "      <td>59433</td>\n",
       "      <td>12959</td>\n",
       "      <td>46474</td>\n",
       "      <td>21.804385</td>\n",
       "    </tr>\n",
       "    <tr>\n",
       "      <th>3</th>\n",
       "      <td>de_mirage</td>\n",
       "      <td>72842</td>\n",
       "      <td>17384</td>\n",
       "      <td>55458</td>\n",
       "      <td>23.865352</td>\n",
       "    </tr>\n",
       "    <tr>\n",
       "      <th>4</th>\n",
       "      <td>de_nuke</td>\n",
       "      <td>17909</td>\n",
       "      <td>4848</td>\n",
       "      <td>13061</td>\n",
       "      <td>27.070188</td>\n",
       "    </tr>\n",
       "    <tr>\n",
       "      <th>5</th>\n",
       "      <td>de_overpass</td>\n",
       "      <td>18242</td>\n",
       "      <td>4353</td>\n",
       "      <td>13889</td>\n",
       "      <td>23.862515</td>\n",
       "    </tr>\n",
       "    <tr>\n",
       "      <th>6</th>\n",
       "      <td>de_train</td>\n",
       "      <td>10139</td>\n",
       "      <td>3085</td>\n",
       "      <td>7054</td>\n",
       "      <td>30.427064</td>\n",
       "    </tr>\n",
       "    <tr>\n",
       "      <th>7</th>\n",
       "      <td>de_vertigo</td>\n",
       "      <td>26470</td>\n",
       "      <td>6458</td>\n",
       "      <td>20012</td>\n",
       "      <td>24.397431</td>\n",
       "    </tr>\n",
       "  </tbody>\n",
       "</table>\n",
       "</div>"
      ],
      "text/plain": [
       "   descMapName  qtBombePlant  qtBombeDefuse  undefused  defuse_rate\n",
       "0   de_ancient          6151           1667       4484    27.101284\n",
       "1     de_dust2         32143           7448      24695    23.171453\n",
       "2   de_inferno         59433          12959      46474    21.804385\n",
       "3    de_mirage         72842          17384      55458    23.865352\n",
       "4      de_nuke         17909           4848      13061    27.070188\n",
       "5  de_overpass         18242           4353      13889    23.862515\n",
       "6     de_train         10139           3085       7054    30.427064\n",
       "7   de_vertigo         26470           6458      20012    24.397431"
      ]
     },
     "execution_count": 25,
     "metadata": {},
     "output_type": "execute_result"
    }
   ],
   "source": [
    "# Number of times of defused \n",
    "maps_bombs = lobby.groupby(by='descMapName', as_index=False)[['qtBombePlant', 'qtBombeDefuse']].sum()\n",
    "maps_bombs['undefused']= maps_bombs.qtBombePlant - maps_bombs.qtBombeDefuse\n",
    "maps_bombs['defuse_rate']= (maps_bombs.qtBombeDefuse/maps_bombs.qtBombePlant) * 100\n",
    "maps_bombs\n"
   ]
  },
  {
   "cell_type": "code",
   "execution_count": 26,
   "metadata": {},
   "outputs": [
    {
     "data": {
      "image/png": "[encoded data removed]",
      "text/plain": [
       "<Figure size 1008x576 with 1 Axes>"
      ]
     },
     "metadata": {
      "needs_background": "light"
     },
     "output_type": "display_data"
    }
   ],
   "source": [
    "# creating multiples plots to compare with \n",
    "fig, ax = plt.subplots(figsize=(14,8))\n",
    "\n",
    "ax.plot(maps_bombs['descMapName'],\n",
    "           maps_bombs['qtBombePlant'],\n",
    "           marker='o')\n",
    "\n",
    "ax.plot(maps_bombs['descMapName'],\n",
    "           maps_bombs['qtBombeDefuse'],\n",
    "           marker='x')\n",
    "ax.set_xlabel('Map Name') \n",
    "ax.set_ylabel('Sum of bombs Planted and Defused') \n",
    "\n",
    "ax.legend(['qtBombePlant', 'qtBombeDefuse'])\n",
    "\n",
    "\n",
    "fig.suptitle('Bombs planted and defused By Map', fontsize=16)\n",
    "\n",
    "plt.show()"
   ]
  },
  {
   "cell_type": "code",
   "execution_count": 27,
   "metadata": {},
   "outputs": [
    {
     "data": {
      "text/plain": [
       "25.21245902587275"
      ]
     },
     "execution_count": 27,
     "metadata": {},
     "output_type": "execute_result"
    }
   ],
   "source": [
    "# defuse rate to all datasets\n",
    "maps_bombs.defuse_rate.mean()"
   ]
  },
  {
   "cell_type": "markdown",
   "metadata": {},
   "source": [
    "- Overall bomb defuse rate is 25%.\n",
    "- Mirrage has the mose undefused bombs, 55458 bombs undefused.\n",
    "- Train has the most defused bombs, the rate is 30% of bombs planted."
   ]
  },
  {
   "cell_type": "markdown",
   "metadata": {},
   "source": [
    "# 5.2 - Most hit body parts"
   ]
  },
  {
   "cell_type": "code",
   "execution_count": 28,
   "metadata": {},
   "outputs": [
    {
     "data": {
      "text/plain": [
       "(184152, 38)"
      ]
     },
     "execution_count": 28,
     "metadata": {},
     "output_type": "execute_result"
    }
   ],
   "source": [
    "lobby.shape"
   ]
  },
  {
   "cell_type": "code",
   "execution_count": 29,
   "metadata": {},
   "outputs": [],
   "source": [
    "# summing all the hits different body parts\n",
    "shots_bodypart = lobby[['qtHitHeadshot', 'qtHitChest',\n",
    "       'qtHitStomach', 'qtHitLeftAtm', 'qtHitRightArm', 'qtHitLeftLeg',\n",
    "       'qtHitRightLeg']].sum()\n",
    "percent_shots_bodypart = (shots_bodypart / shots_bodypart.sum()) *100"
   ]
  },
  {
   "cell_type": "code",
   "execution_count": 30,
   "metadata": {},
   "outputs": [
    {
     "data": {
      "text/html": [
       "<div>\n",
       "<style scoped>\n",
       "    .dataframe tbody tr th:only-of-type {\n",
       "        vertical-align: middle;\n",
       "    }\n",
       "\n",
       "    .dataframe tbody tr th {\n",
       "        vertical-align: top;\n",
       "    }\n",
       "\n",
       "    .dataframe thead th {\n",
       "        text-align: right;\n",
       "    }\n",
       "</style>\n",
       "<table border=\"1\" class=\"dataframe\">\n",
       "  <thead>\n",
       "    <tr style=\"text-align: right;\">\n",
       "      <th></th>\n",
       "      <th>bodyPart</th>\n",
       "      <th>shots</th>\n",
       "      <th>percentage</th>\n",
       "    </tr>\n",
       "  </thead>\n",
       "  <tbody>\n",
       "    <tr>\n",
       "      <th>0</th>\n",
       "      <td>qtHitHeadshot</td>\n",
       "      <td>1768959.0</td>\n",
       "      <td>15.009709</td>\n",
       "    </tr>\n",
       "    <tr>\n",
       "      <th>1</th>\n",
       "      <td>qtHitChest</td>\n",
       "      <td>5375950.0</td>\n",
       "      <td>45.615214</td>\n",
       "    </tr>\n",
       "    <tr>\n",
       "      <th>2</th>\n",
       "      <td>qtHitStomach</td>\n",
       "      <td>2481214.0</td>\n",
       "      <td>21.053229</td>\n",
       "    </tr>\n",
       "    <tr>\n",
       "      <th>3</th>\n",
       "      <td>qtHitLeftAtm</td>\n",
       "      <td>349010.0</td>\n",
       "      <td>2.961368</td>\n",
       "    </tr>\n",
       "    <tr>\n",
       "      <th>4</th>\n",
       "      <td>qtHitRightArm</td>\n",
       "      <td>936697.0</td>\n",
       "      <td>7.947922</td>\n",
       "    </tr>\n",
       "    <tr>\n",
       "      <th>5</th>\n",
       "      <td>qtHitLeftLeg</td>\n",
       "      <td>415625.0</td>\n",
       "      <td>3.526600</td>\n",
       "    </tr>\n",
       "    <tr>\n",
       "      <th>6</th>\n",
       "      <td>qtHitRightLeg</td>\n",
       "      <td>457977.0</td>\n",
       "      <td>3.885959</td>\n",
       "    </tr>\n",
       "  </tbody>\n",
       "</table>\n",
       "</div>"
      ],
      "text/plain": [
       "        bodyPart      shots  percentage\n",
       "0  qtHitHeadshot  1768959.0   15.009709\n",
       "1     qtHitChest  5375950.0   45.615214\n",
       "2   qtHitStomach  2481214.0   21.053229\n",
       "3   qtHitLeftAtm   349010.0    2.961368\n",
       "4  qtHitRightArm   936697.0    7.947922\n",
       "5   qtHitLeftLeg   415625.0    3.526600\n",
       "6  qtHitRightLeg   457977.0    3.885959"
      ]
     },
     "execution_count": 30,
     "metadata": {},
     "output_type": "execute_result"
    }
   ],
   "source": [
    "# creating a table withh number of shots and percentage in each body part\n",
    "tb_freq_shot_bodyparts = pd.DataFrame({'shots':shots_bodypart, 'percentage':percent_shots_bodypart}).reset_index()\n",
    "tb_freq_shot_bodyparts.rename(columns={'index':'bodyPart'}, inplace = True)\n",
    "tb_freq_shot_bodyparts"
   ]
  },
  {
   "cell_type": "code",
   "execution_count": 31,
   "metadata": {},
   "outputs": [],
   "source": [
    "# ploting list of possible targets if some tweek is needed \n",
    "# BodyMap().list_of_targets()"
   ]
  },
  {
   "cell_type": "code",
   "execution_count": 32,
   "metadata": {},
   "outputs": [
    {
     "data": {
      "image/png": "[encoded data removed]",
      "text/plain": [
       "<Figure size 648x1080 with 2 Axes>"
      ]
     },
     "metadata": {
      "needs_background": "light"
     },
     "output_type": "display_data"
    }
   ],
   "source": [
    "values = lobby[['qtHitHeadshot','qtHitHeadshot', 'qtHitChest','qtHitStomach', 'qtHitLeftAtm', 'qtHitRightArm', 'qtHitLeftLeg','qtHitRightLeg']].sum()\n",
    "ax = BodyMap().generate(areas=['head', 'neck', 'torso','waist','left arm','right arm','left leg','right leg'],\n",
    "                        values= values ,cmap='coolwarm',background='white')\n",
    "plt.show()"
   ]
  },
  {
   "cell_type": "markdown",
   "metadata": {},
   "source": [
    "- From herer we can see that the body part which is more likely to be shot is the Chest (45%), and stomach(21%) and Head (15%)\n",
    "- Headshots are preferable because they lead to a faster kill\n",
    "- Left Arm is less likely to be shot (Any sugestion on this ?)"
   ]
  },
  {
   "cell_type": "markdown",
   "metadata": {},
   "source": [
    "# 5.3 - Player level and its implications\n",
    "\n",
    "Quantity of Team Kills (qtTk) is the number of times a teamate was hit by friendly fire.\n",
    "\n",
    "Quantity of Death (qtDeath) is the number of times a player got killed in a match.\n",
    "\n",
    "Quantity of Kills (qtKill) is the number of times a player killed other.\n",
    "\n",
    "Level (vlLevel) is ther ranking a player has in Gamers Club"
   ]
  },
  {
   "cell_type": "code",
   "execution_count": 33,
   "metadata": {},
   "outputs": [
    {
     "data": {
      "text/html": [
       "<div>\n",
       "<style scoped>\n",
       "    .dataframe tbody tr th:only-of-type {\n",
       "        vertical-align: middle;\n",
       "    }\n",
       "\n",
       "    .dataframe tbody tr th {\n",
       "        vertical-align: top;\n",
       "    }\n",
       "\n",
       "    .dataframe thead th {\n",
       "        text-align: right;\n",
       "    }\n",
       "</style>\n",
       "<table border=\"1\" class=\"dataframe\">\n",
       "  <thead>\n",
       "    <tr style=\"text-align: right;\">\n",
       "      <th></th>\n",
       "      <th>vlLevel</th>\n",
       "      <th>qtKill</th>\n",
       "      <th>qtDeath</th>\n",
       "      <th>qtTk</th>\n",
       "    </tr>\n",
       "  </thead>\n",
       "  <tbody>\n",
       "    <tr>\n",
       "      <th>0</th>\n",
       "      <td>0</td>\n",
       "      <td>16.507096</td>\n",
       "      <td>17.097446</td>\n",
       "      <td>2.175970</td>\n",
       "    </tr>\n",
       "    <tr>\n",
       "      <th>1</th>\n",
       "      <td>1</td>\n",
       "      <td>11.794872</td>\n",
       "      <td>18.145299</td>\n",
       "      <td>2.991453</td>\n",
       "    </tr>\n",
       "    <tr>\n",
       "      <th>2</th>\n",
       "      <td>2</td>\n",
       "      <td>11.846970</td>\n",
       "      <td>18.433333</td>\n",
       "      <td>3.181818</td>\n",
       "    </tr>\n",
       "    <tr>\n",
       "      <th>3</th>\n",
       "      <td>3</td>\n",
       "      <td>13.221401</td>\n",
       "      <td>18.349282</td>\n",
       "      <td>4.045237</td>\n",
       "    </tr>\n",
       "    <tr>\n",
       "      <th>4</th>\n",
       "      <td>4</td>\n",
       "      <td>14.373259</td>\n",
       "      <td>18.639972</td>\n",
       "      <td>3.382148</td>\n",
       "    </tr>\n",
       "    <tr>\n",
       "      <th>5</th>\n",
       "      <td>5</td>\n",
       "      <td>15.418986</td>\n",
       "      <td>18.708713</td>\n",
       "      <td>2.263856</td>\n",
       "    </tr>\n",
       "    <tr>\n",
       "      <th>6</th>\n",
       "      <td>6</td>\n",
       "      <td>16.106348</td>\n",
       "      <td>18.725931</td>\n",
       "      <td>2.977028</td>\n",
       "    </tr>\n",
       "    <tr>\n",
       "      <th>7</th>\n",
       "      <td>7</td>\n",
       "      <td>16.265135</td>\n",
       "      <td>18.381065</td>\n",
       "      <td>2.793296</td>\n",
       "    </tr>\n",
       "    <tr>\n",
       "      <th>8</th>\n",
       "      <td>8</td>\n",
       "      <td>17.098773</td>\n",
       "      <td>18.490801</td>\n",
       "      <td>2.600129</td>\n",
       "    </tr>\n",
       "    <tr>\n",
       "      <th>9</th>\n",
       "      <td>9</td>\n",
       "      <td>17.772336</td>\n",
       "      <td>18.481837</td>\n",
       "      <td>2.575857</td>\n",
       "    </tr>\n",
       "    <tr>\n",
       "      <th>10</th>\n",
       "      <td>10</td>\n",
       "      <td>17.967982</td>\n",
       "      <td>18.499927</td>\n",
       "      <td>2.793419</td>\n",
       "    </tr>\n",
       "    <tr>\n",
       "      <th>11</th>\n",
       "      <td>11</td>\n",
       "      <td>18.425975</td>\n",
       "      <td>18.723021</td>\n",
       "      <td>2.491379</td>\n",
       "    </tr>\n",
       "    <tr>\n",
       "      <th>12</th>\n",
       "      <td>12</td>\n",
       "      <td>18.865103</td>\n",
       "      <td>18.888027</td>\n",
       "      <td>2.196736</td>\n",
       "    </tr>\n",
       "    <tr>\n",
       "      <th>13</th>\n",
       "      <td>13</td>\n",
       "      <td>18.928859</td>\n",
       "      <td>18.864880</td>\n",
       "      <td>2.119259</td>\n",
       "    </tr>\n",
       "    <tr>\n",
       "      <th>14</th>\n",
       "      <td>14</td>\n",
       "      <td>19.117043</td>\n",
       "      <td>19.030213</td>\n",
       "      <td>2.285904</td>\n",
       "    </tr>\n",
       "    <tr>\n",
       "      <th>15</th>\n",
       "      <td>15</td>\n",
       "      <td>19.513308</td>\n",
       "      <td>18.888396</td>\n",
       "      <td>1.937029</td>\n",
       "    </tr>\n",
       "    <tr>\n",
       "      <th>16</th>\n",
       "      <td>16</td>\n",
       "      <td>19.809191</td>\n",
       "      <td>19.081144</td>\n",
       "      <td>1.920759</td>\n",
       "    </tr>\n",
       "    <tr>\n",
       "      <th>17</th>\n",
       "      <td>17</td>\n",
       "      <td>19.985455</td>\n",
       "      <td>19.034628</td>\n",
       "      <td>1.919259</td>\n",
       "    </tr>\n",
       "    <tr>\n",
       "      <th>18</th>\n",
       "      <td>18</td>\n",
       "      <td>20.452748</td>\n",
       "      <td>19.010655</td>\n",
       "      <td>1.950044</td>\n",
       "    </tr>\n",
       "    <tr>\n",
       "      <th>19</th>\n",
       "      <td>19</td>\n",
       "      <td>20.800294</td>\n",
       "      <td>19.010033</td>\n",
       "      <td>1.732958</td>\n",
       "    </tr>\n",
       "    <tr>\n",
       "      <th>20</th>\n",
       "      <td>20</td>\n",
       "      <td>22.002459</td>\n",
       "      <td>18.676193</td>\n",
       "      <td>2.011918</td>\n",
       "    </tr>\n",
       "    <tr>\n",
       "      <th>21</th>\n",
       "      <td>21</td>\n",
       "      <td>24.825702</td>\n",
       "      <td>17.813885</td>\n",
       "      <td>3.028065</td>\n",
       "    </tr>\n",
       "  </tbody>\n",
       "</table>\n",
       "</div>"
      ],
      "text/plain": [
       "    vlLevel     qtKill    qtDeath      qtTk\n",
       "0         0  16.507096  17.097446  2.175970\n",
       "1         1  11.794872  18.145299  2.991453\n",
       "2         2  11.846970  18.433333  3.181818\n",
       "3         3  13.221401  18.349282  4.045237\n",
       "4         4  14.373259  18.639972  3.382148\n",
       "5         5  15.418986  18.708713  2.263856\n",
       "6         6  16.106348  18.725931  2.977028\n",
       "7         7  16.265135  18.381065  2.793296\n",
       "8         8  17.098773  18.490801  2.600129\n",
       "9         9  17.772336  18.481837  2.575857\n",
       "10       10  17.967982  18.499927  2.793419\n",
       "11       11  18.425975  18.723021  2.491379\n",
       "12       12  18.865103  18.888027  2.196736\n",
       "13       13  18.928859  18.864880  2.119259\n",
       "14       14  19.117043  19.030213  2.285904\n",
       "15       15  19.513308  18.888396  1.937029\n",
       "16       16  19.809191  19.081144  1.920759\n",
       "17       17  19.985455  19.034628  1.919259\n",
       "18       18  20.452748  19.010655  1.950044\n",
       "19       19  20.800294  19.010033  1.732958\n",
       "20       20  22.002459  18.676193  2.011918\n",
       "21       21  24.825702  17.813885  3.028065"
      ]
     },
     "execution_count": 33,
     "metadata": {},
     "output_type": "execute_result"
    }
   ],
   "source": [
    "level_stats = lobby.groupby(by='vlLevel', as_index=False)[['qtKill', 'qtDeath', 'qtTk']].mean()\n",
    "level_stats['qtTk'] = level_stats['qtTk'] * 100\n",
    "level_stats"
   ]
  },
  {
   "cell_type": "code",
   "execution_count": 34,
   "metadata": {},
   "outputs": [
    {
     "data": {
      "text/html": [
       "<div>\n",
       "<style scoped>\n",
       "    .dataframe tbody tr th:only-of-type {\n",
       "        vertical-align: middle;\n",
       "    }\n",
       "\n",
       "    .dataframe tbody tr th {\n",
       "        vertical-align: top;\n",
       "    }\n",
       "\n",
       "    .dataframe thead th {\n",
       "        text-align: right;\n",
       "    }\n",
       "</style>\n",
       "<table border=\"1\" class=\"dataframe\">\n",
       "  <thead>\n",
       "    <tr style=\"text-align: right;\">\n",
       "      <th></th>\n",
       "      <th>vlLevel</th>\n",
       "      <th>qtKill</th>\n",
       "      <th>qtDeath</th>\n",
       "      <th>qtTk</th>\n",
       "    </tr>\n",
       "  </thead>\n",
       "  <tbody>\n",
       "    <tr>\n",
       "      <th>vlLevel</th>\n",
       "      <td>1.000000</td>\n",
       "      <td>0.929366</td>\n",
       "      <td>0.503130</td>\n",
       "      <td>-0.606434</td>\n",
       "    </tr>\n",
       "    <tr>\n",
       "      <th>qtKill</th>\n",
       "      <td>0.929366</td>\n",
       "      <td>1.000000</td>\n",
       "      <td>0.236651</td>\n",
       "      <td>-0.609428</td>\n",
       "    </tr>\n",
       "    <tr>\n",
       "      <th>qtDeath</th>\n",
       "      <td>0.503130</td>\n",
       "      <td>0.236651</td>\n",
       "      <td>1.000000</td>\n",
       "      <td>-0.397301</td>\n",
       "    </tr>\n",
       "    <tr>\n",
       "      <th>qtTk</th>\n",
       "      <td>-0.606434</td>\n",
       "      <td>-0.609428</td>\n",
       "      <td>-0.397301</td>\n",
       "      <td>1.000000</td>\n",
       "    </tr>\n",
       "  </tbody>\n",
       "</table>\n",
       "</div>"
      ],
      "text/plain": [
       "          vlLevel    qtKill   qtDeath      qtTk\n",
       "vlLevel  1.000000  0.929366  0.503130 -0.606434\n",
       "qtKill   0.929366  1.000000  0.236651 -0.609428\n",
       "qtDeath  0.503130  0.236651  1.000000 -0.397301\n",
       "qtTk    -0.606434 -0.609428 -0.397301  1.000000"
      ]
     },
     "execution_count": 34,
     "metadata": {},
     "output_type": "execute_result"
    }
   ],
   "source": [
    "level_stats.corr()"
   ]
  },
  {
   "cell_type": "code",
   "execution_count": 35,
   "metadata": {},
   "outputs": [
    {
     "data": {
      "text/plain": [
       "<AxesSubplot:>"
      ]
     },
     "execution_count": 35,
     "metadata": {},
     "output_type": "execute_result"
    },
    {
     "data": {
      "image/png": "[encoded data removed]",
      "text/plain": [
       "<Figure size 576x432 with 2 Axes>"
      ]
     },
     "metadata": {
      "needs_background": "light"
     },
     "output_type": "display_data"
    }
   ],
   "source": [
    "# ploting correlation matrix to studied variables\n",
    "fig, ax = plt.subplots ( figsize = (8,6))\n",
    "\n",
    "sns.heatmap(level_stats.corr(), annot= True)"
   ]
  },
  {
   "cell_type": "code",
   "execution_count": 36,
   "metadata": {},
   "outputs": [
    {
     "data": {
      "image/png": "[encoded data removed]",
      "text/plain": [
       "<Figure size 1440x576 with 3 Axes>"
      ]
     },
     "metadata": {
      "needs_background": "light"
     },
     "output_type": "display_data"
    }
   ],
   "source": [
    "# creating multiples plots to compare with \n",
    "fig, ax = plt.subplots(nrows=1,ncols=3,figsize=(20,8))\n",
    "\n",
    "ax[0].plot(level_stats['vlLevel'],\n",
    "           level_stats['qtKill'],\n",
    "           marker='o')\n",
    "ax[0].set_xlabel('Level') \n",
    "ax[0].set_ylabel('Mean de Kills') \n",
    "ax[0].set_title('Level x Mean de Kills') \n",
    "\n",
    "ax[1].plot(level_stats['vlLevel'],\n",
    "           level_stats['qtDeath'],\n",
    "           marker='^')\n",
    "ax[1].set_xlabel('Level') \n",
    "ax[1].set_ylabel('Mean de Death') \n",
    "ax[1].set_title('Level x Mean Death')\n",
    "\n",
    "ax[2].plot(level_stats['vlLevel'],\n",
    "           level_stats['qtTk'],\n",
    "           marker='x')\n",
    "ax[2].set_xlabel('Level') \n",
    "ax[2].set_ylabel('Mean qtTk') \n",
    "ax[2].set_title('Level x Team Kills')\n",
    "\n",
    "fig.suptitle('Level x Kills, Death and TeamKills', fontsize=16)\n",
    "\n",
    "plt.show()\n"
   ]
  },
  {
   "cell_type": "markdown",
   "metadata": {},
   "source": [
    "- We can observe a negative correlation between the variables, meaning that higher the Player Level the less likely they are to shoot a teammate.\n",
    "- A hiegher ranked player kills more in a match.\n",
    "- A hihger rangked playert dies less in a match. \n",
    "- Players have to play more to be higher ranked, so the deaths increase before they drop.\n",
    "- A more experienced player kwnos how to indetify their teamates and shoots beter."
   ]
  },
  {
   "cell_type": "markdown",
   "metadata": {},
   "source": [
    "# 6.0 - Medals"
   ]
  },
  {
   "cell_type": "markdown",
   "metadata": {},
   "source": [
    "# 6.1 - Premium Players\n",
    "\n",
    "Ther are three types of subcriptin, Free, Plus and Premium. They increase in price and benefits. "
   ]
  },
  {
   "cell_type": "code",
   "execution_count": 37,
   "metadata": {},
   "outputs": [],
   "source": [
    "# filtering premium players\n",
    "premium_players = players_medals[players_medals.idMedal.isin([1,3]) & players_medals.flActive == 1][['idPlayer','idMedal']]"
   ]
  },
  {
   "cell_type": "code",
   "execution_count": 38,
   "metadata": {},
   "outputs": [
    {
     "data": {
      "text/html": [
       "<div>\n",
       "<style scoped>\n",
       "    .dataframe tbody tr th:only-of-type {\n",
       "        vertical-align: middle;\n",
       "    }\n",
       "\n",
       "    .dataframe tbody tr th {\n",
       "        vertical-align: top;\n",
       "    }\n",
       "\n",
       "    .dataframe thead th {\n",
       "        text-align: right;\n",
       "    }\n",
       "</style>\n",
       "<table border=\"1\" class=\"dataframe\">\n",
       "  <thead>\n",
       "    <tr style=\"text-align: right;\">\n",
       "      <th></th>\n",
       "      <th>subscription</th>\n",
       "      <th>players</th>\n",
       "      <th>percentage</th>\n",
       "    </tr>\n",
       "  </thead>\n",
       "  <tbody>\n",
       "    <tr>\n",
       "      <th>0</th>\n",
       "      <td>Free</td>\n",
       "      <td>2095</td>\n",
       "      <td>77.135493</td>\n",
       "    </tr>\n",
       "    <tr>\n",
       "      <th>1</th>\n",
       "      <td>Membro Plus</td>\n",
       "      <td>441</td>\n",
       "      <td>16.237113</td>\n",
       "    </tr>\n",
       "    <tr>\n",
       "      <th>2</th>\n",
       "      <td>Membro Premium</td>\n",
       "      <td>180</td>\n",
       "      <td>6.627393</td>\n",
       "    </tr>\n",
       "  </tbody>\n",
       "</table>\n",
       "</div>"
      ],
      "text/plain": [
       "     subscription  players  percentage\n",
       "0            Free     2095   77.135493\n",
       "1     Membro Plus      441   16.237113\n",
       "2  Membro Premium      180    6.627393"
      ]
     },
     "execution_count": 38,
     "metadata": {},
     "output_type": "execute_result"
    }
   ],
   "source": [
    "# calculating the number of players in each subscription model\n",
    "players_premium_status = pd.merge(left= players, right= premium_players,how='left', on=\"idPlayer\")[['idPlayer', 'idMedal']]\n",
    "# all non premium players use free subscription, that will be filled with 0\n",
    "players_premium_status.fillna(0, inplace= True)\n",
    "players_premium_status.idMedal.replace([0,1,3],['Free','Membro Premium', 'Membro Plus'], inplace= True)\n",
    "\n",
    "subscription_status = pd.DataFrame({'players':players_premium_status.idMedal.value_counts(),\n",
    "                                    'percentage':players_premium_status.idMedal.value_counts(normalize= True) * 100}).reset_index()\n",
    "subscription_status.rename(columns={'index':'subscription'}, inplace = True)\n",
    "subscription_status"
   ]
  },
  {
   "cell_type": "code",
   "execution_count": 39,
   "metadata": {},
   "outputs": [
    {
     "data": {
      "image/png": "[encoded data removed]",
      "text/plain": [
       "<Figure size 576x432 with 1 Axes>"
      ]
     },
     "metadata": {
      "needs_background": "light"
     },
     "output_type": "display_data"
    }
   ],
   "source": [
    "fig, ax = plt.subplots (figsize = (8,6))\n",
    "\n",
    "ax = sns.barplot(data = subscription_status,\n",
    "                 x = \"subscription\" ,\n",
    "                 y = \"percentage\",\n",
    "                 order = subscription_status.sort_values('percentage', ascending= False)['subscription'])\n",
    "ax.bar_label(ax.containers[0], fmt='%.f%%')\n",
    "ax.set_ylabel('%')\n",
    "ax.set_title(f'% of users in Each Subcription Model')\n",
    "# ax.set_xlabel('Players')\n",
    "# ax.set_ylabel('Qty Mathces')\n",
    "\n",
    "plt.show()"
   ]
  },
  {
   "cell_type": "markdown",
   "metadata": {},
   "source": [
    "# 6.2 - Higher Ranking players are premium ?"
   ]
  },
  {
   "cell_type": "code",
   "execution_count": 40,
   "metadata": {},
   "outputs": [],
   "source": [
    "level_subscription = pd.merge(left= lobby, right= premium_players,how='left', on=\"idPlayer\")[['vlLevel', 'idMedal']]\n",
    "level_subscription.idMedal.fillna(0, inplace=True)\n",
    "level_subscription.idMedal.replace([0,1,3],['Free','Membro Premium', 'Membro Plus'], inplace= True)"
   ]
  },
  {
   "cell_type": "code",
   "execution_count": 41,
   "metadata": {},
   "outputs": [
    {
     "data": {
      "image/png": "[encoded data removed]",
      "text/plain": [
       "<Figure size 864x576 with 1 Axes>"
      ]
     },
     "metadata": {
      "needs_background": "light"
     },
     "output_type": "display_data"
    }
   ],
   "source": [
    "# calculating the number of matches to each user\n",
    "fig, ax = plt.subplots ( figsize = (12,8))\n",
    "\n",
    "ax = sns.barplot(data = level_subscription,\n",
    "                 x = \"idMedal\" ,\n",
    "                 y = \"vlLevel\")\n",
    "\n",
    "ax.bar_label(ax.containers[0], fmt='%.f')\n",
    "ax.set_ylabel('%')\n",
    "ax.set_title(f' Top 10 Players who played the Most')\n",
    "ax.set_xlabel('Players')\n",
    "ax.set_ylabel('Qty Mathces')\n",
    "\n",
    "plt.show()"
   ]
  },
  {
   "cell_type": "code",
   "execution_count": 42,
   "metadata": {},
   "outputs": [
    {
     "data": {
      "text/html": [
       "<div>\n",
       "<style scoped>\n",
       "    .dataframe tbody tr th:only-of-type {\n",
       "        vertical-align: middle;\n",
       "    }\n",
       "\n",
       "    .dataframe tbody tr th {\n",
       "        vertical-align: top;\n",
       "    }\n",
       "\n",
       "    .dataframe thead th {\n",
       "        text-align: right;\n",
       "    }\n",
       "</style>\n",
       "<table border=\"1\" class=\"dataframe\">\n",
       "  <thead>\n",
       "    <tr style=\"text-align: right;\">\n",
       "      <th></th>\n",
       "      <th>vlLevel</th>\n",
       "      <th>idMedal_Free</th>\n",
       "      <th>idMedal_Membro Plus</th>\n",
       "      <th>idMedal_Membro Premium</th>\n",
       "    </tr>\n",
       "  </thead>\n",
       "  <tbody>\n",
       "    <tr>\n",
       "      <th>vlLevel</th>\n",
       "      <td>1.000000</td>\n",
       "      <td>-0.305862</td>\n",
       "      <td>0.095763</td>\n",
       "      <td>0.287346</td>\n",
       "    </tr>\n",
       "    <tr>\n",
       "      <th>idMedal_Free</th>\n",
       "      <td>-0.305862</td>\n",
       "      <td>1.000000</td>\n",
       "      <td>-0.695289</td>\n",
       "      <td>-0.470128</td>\n",
       "    </tr>\n",
       "    <tr>\n",
       "      <th>idMedal_Membro Plus</th>\n",
       "      <td>0.095763</td>\n",
       "      <td>-0.695289</td>\n",
       "      <td>1.000000</td>\n",
       "      <td>-0.307475</td>\n",
       "    </tr>\n",
       "    <tr>\n",
       "      <th>idMedal_Membro Premium</th>\n",
       "      <td>0.287346</td>\n",
       "      <td>-0.470128</td>\n",
       "      <td>-0.307475</td>\n",
       "      <td>1.000000</td>\n",
       "    </tr>\n",
       "  </tbody>\n",
       "</table>\n",
       "</div>"
      ],
      "text/plain": [
       "                         vlLevel  idMedal_Free  idMedal_Membro Plus  \\\n",
       "vlLevel                 1.000000     -0.305862             0.095763   \n",
       "idMedal_Free           -0.305862      1.000000            -0.695289   \n",
       "idMedal_Membro Plus     0.095763     -0.695289             1.000000   \n",
       "idMedal_Membro Premium  0.287346     -0.470128            -0.307475   \n",
       "\n",
       "                        idMedal_Membro Premium  \n",
       "vlLevel                               0.287346  \n",
       "idMedal_Free                         -0.470128  \n",
       "idMedal_Membro Plus                  -0.307475  \n",
       "idMedal_Membro Premium                1.000000  "
      ]
     },
     "execution_count": 42,
     "metadata": {},
     "output_type": "execute_result"
    }
   ],
   "source": [
    "pd.get_dummies(level_subscription, columns=['idMedal']).corr()"
   ]
  },
  {
   "cell_type": "code",
   "execution_count": null,
   "metadata": {},
   "outputs": [],
   "source": []
  }
 ],
 "metadata": {
  "kernelspec": {
   "display_name": "Python 3.9.12 ('base')",
   "language": "python",
   "name": "python3"
  },
  "language_info": {
   "codemirror_mode": {
    "name": "ipython",
    "version": 3
   },
   "file_extension": ".py",
   "mimetype": "text/x-python",
   "name": "python",
   "nbconvert_exporter": "python",
   "pygments_lexer": "ipython3",
   "version": "3.9.12"
  },
  "orig_nbformat": 4,
  "vscode": {
   "interpreter": {
    "hash": "d6bfda042cffef11bd1260fbb6df28085e066f24d6efc91a462ad992671d3909"
   }
  }
 },
 "nbformat": 4,
 "nbformat_minor": 2
}
